{
  "nbformat": 4,
  "nbformat_minor": 0,
  "metadata": {
    "colab": {
      "provenance": []
    },
    "kernelspec": {
      "name": "python3",
      "display_name": "Python 3"
    },
    "language_info": {
      "name": "python"
    }
  },
  "cells": [
    {
      "cell_type": "code",
      "execution_count": 4,
      "metadata": {
        "colab": {
          "base_uri": "https://localhost:8080/"
        },
        "id": "HDUyCczoChUj",
        "outputId": "94435229-c422-47fe-b07d-78626d4cea63"
      },
      "outputs": [
        {
          "output_type": "stream",
          "name": "stdout",
          "text": [
            "\n",
            "您想查詢什麼？(藥方名稱/出典/處方/效能/適應症/退出查詢)：藥方名稱\n",
            "八味地黃丸《丸》\n",
            "\n",
            "您想查詢什麼？(藥方名稱/出典/處方/效能/適應症/退出查詢)：出典\n",
            "八味地黃丸《丸》的出典為:醫方集解\n",
            "\n",
            "您想查詢什麼？(藥方名稱/出典/處方/效能/適應症/退出查詢)：處方\n",
            "八味地黃丸《丸》的處方為:\n",
            "茯苓：3公克\n",
            "牡丹皮：3公克\n",
            "澤瀉：3公克\n",
            "熟地黃：8公克\n",
            "山茱萸：4公克\n",
            "山藥：4公克\n",
            "炮附子：1公克\n",
            "肉桂：1公克\n",
            "總克數為：27公克\n",
            "\n",
            "您想查詢什麼？(藥方名稱/出典/處方/效能/適應症/退出查詢)：效能\n",
            "八味地黃丸《丸》的效能是:溫補腎陽\n",
            "\n",
            "您想查詢什麼？(藥方名稱/出典/處方/效能/適應症/退出查詢)：適應症\n",
            "八味地黃丸《丸》的適應症有:\n",
            "腎陽虛弱\n",
            "命門火衰\n",
            "夜尿\n",
            "自汗\n",
            "耳鳴\n",
            "\n",
            "您想查詢什麼？(藥方名稱/出典/處方/效能/適應症/退出查詢)：退出查詢\n",
            "感謝使用，再見！\n"
          ]
        }
      ],
      "source": [
        "prescription = {\n",
        "    '名稱': '八味地黃丸《丸》',\n",
        "    '出典': '醫方集解',\n",
        "    '處方': {\n",
        "        '茯苓': 3,\n",
        "        '牡丹皮': 3,\n",
        "        '澤瀉': 3,\n",
        "        '熟地黃': 8,\n",
        "        '山茱萸': 4,\n",
        "        '山藥': 4,\n",
        "        '炮附子': 1,\n",
        "        '肉桂': 1\n",
        "    },\n",
        "    '效能': '溫補腎陽',\n",
        "    '適應症': ['腎陽虛弱', '命門火衰', '夜尿', '自汗', '耳鳴']\n",
        "}\n",
        "\n",
        "while True:\n",
        "    query = input(\"\\n您想查詢什麼？(藥方名稱/出典/處方/效能/適應症/退出查詢)：\")\n",
        "\n",
        "    if query == \"藥方名稱\":\n",
        "        print(f\"{prescription['名稱']}\")\n",
        "    elif query == \"出典\":\n",
        "        print(f\"{prescription['名稱']}的出典為:{prescription['出典']}\")\n",
        "    elif query == \"適應症\":\n",
        "        print(f\"{prescription['名稱']}的適應症有:\")\n",
        "        for symptom in prescription['適應症']:\n",
        "            print(symptom)\n",
        "    elif query == \"處方\":\n",
        "        total_weight = sum(prescription['處方'].values())\n",
        "        print(f\"{prescription['名稱']}的處方為:\")\n",
        "        for medicine, weight in prescription['處方'].items():\n",
        "            print(f\"{medicine}：{weight}公克\")\n",
        "        print(f\"總克數為：{total_weight}公克\")\n",
        "    elif query == \"效能\":\n",
        "        print(f\"{prescription['名稱']}的效能是:{prescription['效能']}\")\n",
        "    elif query == \"退出查詢\":\n",
        "        print(\"感謝使用，再見！\")\n",
        "        break\n",
        "    else:\n",
        "        print(\"輸入無效，請重新輸入。\")"
      ]
    }
  ]
}